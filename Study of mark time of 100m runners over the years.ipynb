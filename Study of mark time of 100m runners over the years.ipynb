{
 "cells": [
  {
   "cell_type": "code",
   "execution_count": 1,
   "metadata": {},
   "outputs": [],
   "source": [
    "import pandas as pd\n",
    "import matplotlib.pyplot as plt\n",
    "import requests\n",
    "from bs4 import BeautifulSoup\n",
    "import csv\n",
    "%matplotlib inline\n",
    "import seaborn as sns\n",
    "import numpy as np"
   ]
  },
  {
   "cell_type": "markdown",
   "metadata": {},
   "source": [
    "### Scrape the data"
   ]
  },
  {
   "cell_type": "code",
   "execution_count": 2,
   "metadata": {},
   "outputs": [
    {
     "name": "stdout",
     "output_type": "stream",
     "text": [
      "b'<!DOCTYPE html>\\n<html xmlns=\"http://www.w3.org/1999/xhtml\"  xml:lang=\"en\" lang=\"en\" dir=\"ltr\">\\n<head'\n"
     ]
    }
   ],
   "source": [
    "url = 'https://www.topendsports.com/events/summer/science/athletics-100m.htm'\n",
    "r = requests.get(url)\n",
    "print(r.content[:100])"
   ]
  },
  {
   "cell_type": "code",
   "execution_count": 3,
   "metadata": {},
   "outputs": [],
   "source": [
    "soup = BeautifulSoup(r.content, 'html.parser')"
   ]
  },
  {
   "cell_type": "code",
   "execution_count": 4,
   "metadata": {},
   "outputs": [
    {
     "data": {
      "text/plain": [
       "36"
      ]
     },
     "execution_count": 4,
     "metadata": {},
     "output_type": "execute_result"
    }
   ],
   "source": [
    "csv_file = open('runners_data.csv', 'w', encoding='utf-8')\n",
    "csv_writer = csv.writer(csv_file)\n",
    "csv_writer.writerow(['year', 'winner', 'time', 'height', 'weight', 'bmi'])"
   ]
  },
  {
   "cell_type": "code",
   "execution_count": 9,
   "metadata": {},
   "outputs": [],
   "source": [
    "rows = soup.select('tr')\n",
    "#we dont select the first row because its the headers row\n",
    "for row in rows[1:]:\n",
    "    year = row.select_one('td').text\n",
    "    winner = row.select_one('td:nth-child(2)').text.strip()\n",
    "    time = row.select_one('td:nth-child(3)').text.strip()\n",
    "    height = row.select_one('td:nth-child(4)').text.strip()\n",
    "    weight = row.select_one('td:nth-child(5)').text.strip()\n",
    "    bmi = row.select_one('td:last-child').text.strip()\n",
    "    \n",
    "    csv_writer.writerow([year, winner, time, height, weight, bmi])\n",
    "    \n",
    "csv_file.close()"
   ]
  },
  {
   "cell_type": "markdown",
   "metadata": {},
   "source": [
    "### Load data and analyze"
   ]
  },
  {
   "cell_type": "code",
   "execution_count": 2,
   "metadata": {},
   "outputs": [],
   "source": [
    "data = pd.read_csv('runners_data.csv')"
   ]
  },
  {
   "cell_type": "code",
   "execution_count": 4,
   "metadata": {
    "scrolled": false
   },
   "outputs": [
    {
     "data": {
      "text/html": [
       "<div>\n",
       "<style scoped>\n",
       "    .dataframe tbody tr th:only-of-type {\n",
       "        vertical-align: middle;\n",
       "    }\n",
       "\n",
       "    .dataframe tbody tr th {\n",
       "        vertical-align: top;\n",
       "    }\n",
       "\n",
       "    .dataframe thead th {\n",
       "        text-align: right;\n",
       "    }\n",
       "</style>\n",
       "<table border=\"1\" class=\"dataframe\">\n",
       "  <thead>\n",
       "    <tr style=\"text-align: right;\">\n",
       "      <th></th>\n",
       "      <th>year</th>\n",
       "      <th>winner</th>\n",
       "      <th>time</th>\n",
       "      <th>height</th>\n",
       "      <th>weight</th>\n",
       "      <th>bmi</th>\n",
       "    </tr>\n",
       "  </thead>\n",
       "  <tbody>\n",
       "    <tr>\n",
       "      <th>0</th>\n",
       "      <td>1896</td>\n",
       "      <td>Tom Burke (USA)</td>\n",
       "      <td>12.0</td>\n",
       "      <td>1.83 m / 6 ft 0 in</td>\n",
       "      <td>66 kg / 146 lb</td>\n",
       "      <td>19.7</td>\n",
       "    </tr>\n",
       "    <tr>\n",
       "      <th>1</th>\n",
       "      <td>1900</td>\n",
       "      <td>Frank Jarvis (USA)</td>\n",
       "      <td>11.0</td>\n",
       "      <td>1.67 m / 5 ft 5 1⁄2 in</td>\n",
       "      <td>58 kg / 128 lb</td>\n",
       "      <td>20.8</td>\n",
       "    </tr>\n",
       "    <tr>\n",
       "      <th>2</th>\n",
       "      <td>1904</td>\n",
       "      <td>Archie Hahn (USA)</td>\n",
       "      <td>11.0</td>\n",
       "      <td>1.67 m / 5 ft 5 1⁄2 in</td>\n",
       "      <td>64 kg / 141 lb</td>\n",
       "      <td>22.9</td>\n",
       "    </tr>\n",
       "    <tr>\n",
       "      <th>3</th>\n",
       "      <td>1908</td>\n",
       "      <td>Reggie Walker (SAF)</td>\n",
       "      <td>10.8</td>\n",
       "      <td>1.70 m / 5 ft 6 1⁄2 in</td>\n",
       "      <td>61 kg / 134 lb</td>\n",
       "      <td>21.1</td>\n",
       "    </tr>\n",
       "    <tr>\n",
       "      <th>4</th>\n",
       "      <td>1912</td>\n",
       "      <td>Ralph Craig (USA)</td>\n",
       "      <td>10.8</td>\n",
       "      <td>1.82 m / 6 ft 0 in</td>\n",
       "      <td>73 kg  / 161 lb</td>\n",
       "      <td>22.0</td>\n",
       "    </tr>\n",
       "  </tbody>\n",
       "</table>\n",
       "</div>"
      ],
      "text/plain": [
       "   year               winner  time                  height           weight  \\\n",
       "0  1896      Tom Burke (USA)  12.0      1.83 m / 6 ft 0 in   66 kg / 146 lb   \n",
       "1  1900   Frank Jarvis (USA)  11.0  1.67 m / 5 ft 5 1⁄2 in   58 kg / 128 lb   \n",
       "2  1904    Archie Hahn (USA)  11.0  1.67 m / 5 ft 5 1⁄2 in   64 kg / 141 lb   \n",
       "3  1908  Reggie Walker (SAF)  10.8  1.70 m / 5 ft 6 1⁄2 in   61 kg / 134 lb   \n",
       "4  1912    Ralph Craig (USA)  10.8      1.82 m / 6 ft 0 in  73 kg  / 161 lb   \n",
       "\n",
       "    bmi  \n",
       "0  19.7  \n",
       "1  20.8  \n",
       "2  22.9  \n",
       "3  21.1  \n",
       "4  22.0  "
      ]
     },
     "execution_count": 4,
     "metadata": {},
     "output_type": "execute_result"
    }
   ],
   "source": [
    "data.head()"
   ]
  },
  {
   "cell_type": "markdown",
   "metadata": {},
   "source": [
    "#### clean data, get country of winner and place them in new column"
   ]
  },
  {
   "cell_type": "code",
   "execution_count": 3,
   "metadata": {},
   "outputs": [],
   "source": [
    "data['country'] = data['winner'].str.extract(r\"\\(([a-zA-Z]+)\\)\")\n",
    "data['winner'] = data['winner'].str.replace(r\"\\(([a-zA-Z]+)\\)\", \"\")"
   ]
  },
  {
   "cell_type": "code",
   "execution_count": 4,
   "metadata": {
    "scrolled": false
   },
   "outputs": [
    {
     "data": {
      "text/html": [
       "<div>\n",
       "<style scoped>\n",
       "    .dataframe tbody tr th:only-of-type {\n",
       "        vertical-align: middle;\n",
       "    }\n",
       "\n",
       "    .dataframe tbody tr th {\n",
       "        vertical-align: top;\n",
       "    }\n",
       "\n",
       "    .dataframe thead th {\n",
       "        text-align: right;\n",
       "    }\n",
       "</style>\n",
       "<table border=\"1\" class=\"dataframe\">\n",
       "  <thead>\n",
       "    <tr style=\"text-align: right;\">\n",
       "      <th></th>\n",
       "      <th>year</th>\n",
       "      <th>winner</th>\n",
       "      <th>time</th>\n",
       "      <th>height</th>\n",
       "      <th>weight</th>\n",
       "      <th>bmi</th>\n",
       "      <th>country</th>\n",
       "    </tr>\n",
       "  </thead>\n",
       "  <tbody>\n",
       "    <tr>\n",
       "      <th>0</th>\n",
       "      <td>1896</td>\n",
       "      <td>Tom Burke</td>\n",
       "      <td>12.0</td>\n",
       "      <td>1.83 m / 6 ft 0 in</td>\n",
       "      <td>66 kg / 146 lb</td>\n",
       "      <td>19.7</td>\n",
       "      <td>USA</td>\n",
       "    </tr>\n",
       "    <tr>\n",
       "      <th>1</th>\n",
       "      <td>1900</td>\n",
       "      <td>Frank Jarvis</td>\n",
       "      <td>11.0</td>\n",
       "      <td>1.67 m / 5 ft 5 1⁄2 in</td>\n",
       "      <td>58 kg / 128 lb</td>\n",
       "      <td>20.8</td>\n",
       "      <td>USA</td>\n",
       "    </tr>\n",
       "    <tr>\n",
       "      <th>2</th>\n",
       "      <td>1904</td>\n",
       "      <td>Archie Hahn</td>\n",
       "      <td>11.0</td>\n",
       "      <td>1.67 m / 5 ft 5 1⁄2 in</td>\n",
       "      <td>64 kg / 141 lb</td>\n",
       "      <td>22.9</td>\n",
       "      <td>USA</td>\n",
       "    </tr>\n",
       "    <tr>\n",
       "      <th>3</th>\n",
       "      <td>1908</td>\n",
       "      <td>Reggie Walker</td>\n",
       "      <td>10.8</td>\n",
       "      <td>1.70 m / 5 ft 6 1⁄2 in</td>\n",
       "      <td>61 kg / 134 lb</td>\n",
       "      <td>21.1</td>\n",
       "      <td>SAF</td>\n",
       "    </tr>\n",
       "    <tr>\n",
       "      <th>4</th>\n",
       "      <td>1912</td>\n",
       "      <td>Ralph Craig</td>\n",
       "      <td>10.8</td>\n",
       "      <td>1.82 m / 6 ft 0 in</td>\n",
       "      <td>73 kg  / 161 lb</td>\n",
       "      <td>22.0</td>\n",
       "      <td>USA</td>\n",
       "    </tr>\n",
       "  </tbody>\n",
       "</table>\n",
       "</div>"
      ],
      "text/plain": [
       "   year          winner  time                  height           weight   bmi  \\\n",
       "0  1896      Tom Burke   12.0      1.83 m / 6 ft 0 in   66 kg / 146 lb  19.7   \n",
       "1  1900   Frank Jarvis   11.0  1.67 m / 5 ft 5 1⁄2 in   58 kg / 128 lb  20.8   \n",
       "2  1904    Archie Hahn   11.0  1.67 m / 5 ft 5 1⁄2 in   64 kg / 141 lb  22.9   \n",
       "3  1908  Reggie Walker   10.8  1.70 m / 5 ft 6 1⁄2 in   61 kg / 134 lb  21.1   \n",
       "4  1912    Ralph Craig   10.8      1.82 m / 6 ft 0 in  73 kg  / 161 lb  22.0   \n",
       "\n",
       "  country  \n",
       "0     USA  \n",
       "1     USA  \n",
       "2     USA  \n",
       "3     SAF  \n",
       "4     USA  "
      ]
     },
     "execution_count": 4,
     "metadata": {},
     "output_type": "execute_result"
    }
   ],
   "source": [
    "data.head()"
   ]
  },
  {
   "cell_type": "markdown",
   "metadata": {},
   "source": [
    "####  remove inches and lb from data"
   ]
  },
  {
   "cell_type": "code",
   "execution_count": 5,
   "metadata": {},
   "outputs": [],
   "source": [
    "data['height'] = data['height'].str.replace(r\"(m.+)\", \"\")\n",
    "data['weight'] = data['weight'].str.replace(r\"(kg.+)\", \"\")"
   ]
  },
  {
   "cell_type": "code",
   "execution_count": 6,
   "metadata": {},
   "outputs": [
    {
     "data": {
      "text/html": [
       "<div>\n",
       "<style scoped>\n",
       "    .dataframe tbody tr th:only-of-type {\n",
       "        vertical-align: middle;\n",
       "    }\n",
       "\n",
       "    .dataframe tbody tr th {\n",
       "        vertical-align: top;\n",
       "    }\n",
       "\n",
       "    .dataframe thead th {\n",
       "        text-align: right;\n",
       "    }\n",
       "</style>\n",
       "<table border=\"1\" class=\"dataframe\">\n",
       "  <thead>\n",
       "    <tr style=\"text-align: right;\">\n",
       "      <th></th>\n",
       "      <th>year</th>\n",
       "      <th>winner</th>\n",
       "      <th>time</th>\n",
       "      <th>height</th>\n",
       "      <th>weight</th>\n",
       "      <th>bmi</th>\n",
       "      <th>country</th>\n",
       "    </tr>\n",
       "  </thead>\n",
       "  <tbody>\n",
       "    <tr>\n",
       "      <th>0</th>\n",
       "      <td>1896</td>\n",
       "      <td>Tom Burke</td>\n",
       "      <td>12.00</td>\n",
       "      <td>1.83</td>\n",
       "      <td>66</td>\n",
       "      <td>19.7</td>\n",
       "      <td>USA</td>\n",
       "    </tr>\n",
       "    <tr>\n",
       "      <th>1</th>\n",
       "      <td>1900</td>\n",
       "      <td>Frank Jarvis</td>\n",
       "      <td>11.00</td>\n",
       "      <td>1.67</td>\n",
       "      <td>58</td>\n",
       "      <td>20.8</td>\n",
       "      <td>USA</td>\n",
       "    </tr>\n",
       "    <tr>\n",
       "      <th>2</th>\n",
       "      <td>1904</td>\n",
       "      <td>Archie Hahn</td>\n",
       "      <td>11.00</td>\n",
       "      <td>1.67</td>\n",
       "      <td>64</td>\n",
       "      <td>22.9</td>\n",
       "      <td>USA</td>\n",
       "    </tr>\n",
       "    <tr>\n",
       "      <th>3</th>\n",
       "      <td>1908</td>\n",
       "      <td>Reggie Walker</td>\n",
       "      <td>10.80</td>\n",
       "      <td>1.70</td>\n",
       "      <td>61</td>\n",
       "      <td>21.1</td>\n",
       "      <td>SAF</td>\n",
       "    </tr>\n",
       "    <tr>\n",
       "      <th>4</th>\n",
       "      <td>1912</td>\n",
       "      <td>Ralph Craig</td>\n",
       "      <td>10.80</td>\n",
       "      <td>1.82</td>\n",
       "      <td>73</td>\n",
       "      <td>22.0</td>\n",
       "      <td>USA</td>\n",
       "    </tr>\n",
       "    <tr>\n",
       "      <th>5</th>\n",
       "      <td>1920</td>\n",
       "      <td>Charles Paddock</td>\n",
       "      <td>10.80</td>\n",
       "      <td>1.71</td>\n",
       "      <td>75</td>\n",
       "      <td>25.6</td>\n",
       "      <td>USA</td>\n",
       "    </tr>\n",
       "    <tr>\n",
       "      <th>6</th>\n",
       "      <td>1924</td>\n",
       "      <td>Harold Abrahams</td>\n",
       "      <td>10.60</td>\n",
       "      <td>1.83</td>\n",
       "      <td>75</td>\n",
       "      <td>22.4</td>\n",
       "      <td>GBR</td>\n",
       "    </tr>\n",
       "    <tr>\n",
       "      <th>7</th>\n",
       "      <td>1928</td>\n",
       "      <td>Percy Williams</td>\n",
       "      <td>10.80</td>\n",
       "      <td>1.70</td>\n",
       "      <td>56</td>\n",
       "      <td>19.4</td>\n",
       "      <td>CAN</td>\n",
       "    </tr>\n",
       "    <tr>\n",
       "      <th>8</th>\n",
       "      <td>1932</td>\n",
       "      <td>Eddie Tolan</td>\n",
       "      <td>10.38</td>\n",
       "      <td>1.70</td>\n",
       "      <td>65</td>\n",
       "      <td>22.5</td>\n",
       "      <td>USA</td>\n",
       "    </tr>\n",
       "    <tr>\n",
       "      <th>9</th>\n",
       "      <td>1936</td>\n",
       "      <td>Jesse Owens</td>\n",
       "      <td>10.30</td>\n",
       "      <td>1.80</td>\n",
       "      <td>75</td>\n",
       "      <td>23.1</td>\n",
       "      <td>USA</td>\n",
       "    </tr>\n",
       "    <tr>\n",
       "      <th>10</th>\n",
       "      <td>1948</td>\n",
       "      <td>Harrison Dillard</td>\n",
       "      <td>10.30</td>\n",
       "      <td>1.78</td>\n",
       "      <td>69</td>\n",
       "      <td>21.8</td>\n",
       "      <td>USA</td>\n",
       "    </tr>\n",
       "    <tr>\n",
       "      <th>11</th>\n",
       "      <td>1952</td>\n",
       "      <td>Lindy Remigino</td>\n",
       "      <td>10.40</td>\n",
       "      <td>1.68</td>\n",
       "      <td>63</td>\n",
       "      <td>22.3</td>\n",
       "      <td>USA</td>\n",
       "    </tr>\n",
       "    <tr>\n",
       "      <th>12</th>\n",
       "      <td>1956</td>\n",
       "      <td>Bobby Morrow</td>\n",
       "      <td>10.50</td>\n",
       "      <td>1.86</td>\n",
       "      <td>75</td>\n",
       "      <td>24.2</td>\n",
       "      <td>USA</td>\n",
       "    </tr>\n",
       "    <tr>\n",
       "      <th>13</th>\n",
       "      <td>1960</td>\n",
       "      <td>Armin Hary</td>\n",
       "      <td>10.20</td>\n",
       "      <td>1.82</td>\n",
       "      <td>71</td>\n",
       "      <td>21.4</td>\n",
       "      <td>GER</td>\n",
       "    </tr>\n",
       "    <tr>\n",
       "      <th>14</th>\n",
       "      <td>1964</td>\n",
       "      <td>Bob Hayes</td>\n",
       "      <td>10.00</td>\n",
       "      <td>1.80</td>\n",
       "      <td>84</td>\n",
       "      <td>25.9</td>\n",
       "      <td>USA</td>\n",
       "    </tr>\n",
       "    <tr>\n",
       "      <th>15</th>\n",
       "      <td>1968</td>\n",
       "      <td>Jim Hines</td>\n",
       "      <td>9.95</td>\n",
       "      <td>1.83</td>\n",
       "      <td>81</td>\n",
       "      <td>24.2</td>\n",
       "      <td>USA</td>\n",
       "    </tr>\n",
       "    <tr>\n",
       "      <th>16</th>\n",
       "      <td>1972</td>\n",
       "      <td>Valeriy  Borzov</td>\n",
       "      <td>10.14</td>\n",
       "      <td>1.83</td>\n",
       "      <td>80</td>\n",
       "      <td>23.9</td>\n",
       "      <td>URS</td>\n",
       "    </tr>\n",
       "    <tr>\n",
       "      <th>17</th>\n",
       "      <td>1976</td>\n",
       "      <td>Hasely Crawford</td>\n",
       "      <td>10.06</td>\n",
       "      <td>1.87</td>\n",
       "      <td>90</td>\n",
       "      <td>25.7</td>\n",
       "      <td>TRI</td>\n",
       "    </tr>\n",
       "    <tr>\n",
       "      <th>18</th>\n",
       "      <td>1980</td>\n",
       "      <td>Allan Wells</td>\n",
       "      <td>10.25</td>\n",
       "      <td>1.83</td>\n",
       "      <td>86</td>\n",
       "      <td>25.7</td>\n",
       "      <td>GBR</td>\n",
       "    </tr>\n",
       "    <tr>\n",
       "      <th>19</th>\n",
       "      <td>1984</td>\n",
       "      <td>Carl Lewis</td>\n",
       "      <td>9.99</td>\n",
       "      <td>1.88</td>\n",
       "      <td>80</td>\n",
       "      <td>22.6</td>\n",
       "      <td>USA</td>\n",
       "    </tr>\n",
       "    <tr>\n",
       "      <th>20</th>\n",
       "      <td>1988</td>\n",
       "      <td>Carl Lewis</td>\n",
       "      <td>9.92</td>\n",
       "      <td>1.88</td>\n",
       "      <td>80</td>\n",
       "      <td>22.6</td>\n",
       "      <td>USA</td>\n",
       "    </tr>\n",
       "    <tr>\n",
       "      <th>21</th>\n",
       "      <td>1992</td>\n",
       "      <td>Linford Christie</td>\n",
       "      <td>9.96</td>\n",
       "      <td>1.88</td>\n",
       "      <td>92</td>\n",
       "      <td>26.0</td>\n",
       "      <td>GBR</td>\n",
       "    </tr>\n",
       "    <tr>\n",
       "      <th>22</th>\n",
       "      <td>1996</td>\n",
       "      <td>Donovan Bailey</td>\n",
       "      <td>9.84</td>\n",
       "      <td>1.85</td>\n",
       "      <td>91</td>\n",
       "      <td>26.6</td>\n",
       "      <td>CAN</td>\n",
       "    </tr>\n",
       "    <tr>\n",
       "      <th>23</th>\n",
       "      <td>2000</td>\n",
       "      <td>Maurice Greene</td>\n",
       "      <td>9.87</td>\n",
       "      <td>1.76</td>\n",
       "      <td>75</td>\n",
       "      <td>24.2</td>\n",
       "      <td>USA</td>\n",
       "    </tr>\n",
       "    <tr>\n",
       "      <th>24</th>\n",
       "      <td>2004</td>\n",
       "      <td>Justin Gatlin</td>\n",
       "      <td>9.85</td>\n",
       "      <td>1.85</td>\n",
       "      <td>83</td>\n",
       "      <td>24.3</td>\n",
       "      <td>USA</td>\n",
       "    </tr>\n",
       "    <tr>\n",
       "      <th>25</th>\n",
       "      <td>2008</td>\n",
       "      <td>Usain Bolt</td>\n",
       "      <td>9.69</td>\n",
       "      <td>1.95</td>\n",
       "      <td>94</td>\n",
       "      <td>24.7</td>\n",
       "      <td>JAM</td>\n",
       "    </tr>\n",
       "    <tr>\n",
       "      <th>26</th>\n",
       "      <td>2012</td>\n",
       "      <td>Usain Bolt</td>\n",
       "      <td>9.63</td>\n",
       "      <td>1.95</td>\n",
       "      <td>94</td>\n",
       "      <td>24.7</td>\n",
       "      <td>JAM</td>\n",
       "    </tr>\n",
       "    <tr>\n",
       "      <th>27</th>\n",
       "      <td>2016</td>\n",
       "      <td>Usain Bolt</td>\n",
       "      <td>9.81</td>\n",
       "      <td>1.95</td>\n",
       "      <td>94</td>\n",
       "      <td>24.7</td>\n",
       "      <td>JAM</td>\n",
       "    </tr>\n",
       "  </tbody>\n",
       "</table>\n",
       "</div>"
      ],
      "text/plain": [
       "    year             winner   time height weight   bmi country\n",
       "0   1896         Tom Burke   12.00  1.83     66   19.7     USA\n",
       "1   1900      Frank Jarvis   11.00  1.67     58   20.8     USA\n",
       "2   1904       Archie Hahn   11.00  1.67     64   22.9     USA\n",
       "3   1908     Reggie Walker   10.80  1.70     61   21.1     SAF\n",
       "4   1912       Ralph Craig   10.80  1.82     73   22.0     USA\n",
       "5   1920   Charles Paddock   10.80  1.71     75   25.6     USA\n",
       "6   1924   Harold Abrahams   10.60  1.83     75   22.4     GBR\n",
       "7   1928    Percy Williams   10.80  1.70     56   19.4     CAN\n",
       "8   1932       Eddie Tolan   10.38  1.70     65   22.5     USA\n",
       "9   1936       Jesse Owens   10.30  1.80     75   23.1     USA\n",
       "10  1948  Harrison Dillard   10.30  1.78     69   21.8     USA\n",
       "11  1952    Lindy Remigino   10.40  1.68     63   22.3     USA\n",
       "12  1956      Bobby Morrow   10.50  1.86     75   24.2     USA\n",
       "13  1960        Armin Hary   10.20  1.82     71   21.4     GER\n",
       "14  1964         Bob Hayes   10.00  1.80     84   25.9     USA\n",
       "15  1968         Jim Hines    9.95  1.83     81   24.2     USA\n",
       "16  1972   Valeriy  Borzov   10.14  1.83     80   23.9     URS\n",
       "17  1976   Hasely Crawford   10.06  1.87     90   25.7     TRI\n",
       "18  1980       Allan Wells   10.25  1.83     86   25.7     GBR\n",
       "19  1984        Carl Lewis    9.99  1.88     80   22.6     USA\n",
       "20  1988        Carl Lewis    9.92  1.88     80   22.6     USA\n",
       "21  1992  Linford Christie    9.96  1.88     92   26.0     GBR\n",
       "22  1996    Donovan Bailey    9.84  1.85     91   26.6     CAN\n",
       "23  2000    Maurice Greene    9.87  1.76     75   24.2     USA\n",
       "24  2004     Justin Gatlin    9.85  1.85     83   24.3     USA\n",
       "25  2008        Usain Bolt    9.69  1.95     94   24.7     JAM\n",
       "26  2012        Usain Bolt    9.63  1.95     94   24.7     JAM\n",
       "27  2016        Usain Bolt    9.81  1.95     94   24.7     JAM"
      ]
     },
     "execution_count": 6,
     "metadata": {},
     "output_type": "execute_result"
    }
   ],
   "source": [
    "data"
   ]
  },
  {
   "cell_type": "code",
   "execution_count": 7,
   "metadata": {},
   "outputs": [],
   "source": [
    "data['speed'] = round(100 / data['time'], 2)"
   ]
  },
  {
   "cell_type": "code",
   "execution_count": 8,
   "metadata": {},
   "outputs": [
    {
     "name": "stdout",
     "output_type": "stream",
     "text": [
      "<class 'pandas.core.frame.DataFrame'>\n",
      "RangeIndex: 28 entries, 0 to 27\n",
      "Data columns (total 8 columns):\n",
      " #   Column   Non-Null Count  Dtype  \n",
      "---  ------   --------------  -----  \n",
      " 0   year     28 non-null     int64  \n",
      " 1   winner   28 non-null     object \n",
      " 2   time     28 non-null     float64\n",
      " 3   height   28 non-null     object \n",
      " 4   weight   28 non-null     object \n",
      " 5   bmi      28 non-null     float64\n",
      " 6   country  28 non-null     object \n",
      " 7   speed    28 non-null     float64\n",
      "dtypes: float64(3), int64(1), object(4)\n",
      "memory usage: 1.9+ KB\n"
     ]
    }
   ],
   "source": [
    "data.info()"
   ]
  },
  {
   "cell_type": "code",
   "execution_count": 9,
   "metadata": {
    "scrolled": true
   },
   "outputs": [],
   "source": [
    "data['height'] = data['height'].astype('float')\n",
    "data['weight'] = data['weight'].astype('float')"
   ]
  },
  {
   "cell_type": "code",
   "execution_count": 10,
   "metadata": {},
   "outputs": [
    {
     "data": {
      "text/plain": [
       "year         int64\n",
       "winner      object\n",
       "time       float64\n",
       "height     float64\n",
       "weight     float64\n",
       "bmi        float64\n",
       "country     object\n",
       "speed      float64\n",
       "dtype: object"
      ]
     },
     "execution_count": 10,
     "metadata": {},
     "output_type": "execute_result"
    }
   ],
   "source": [
    "data.dtypes"
   ]
  },
  {
   "cell_type": "code",
   "execution_count": 11,
   "metadata": {},
   "outputs": [
    {
     "data": {
      "text/plain": [
       "count    28.000000\n",
       "mean     10.315714\n",
       "std       0.521177\n",
       "min       9.630000\n",
       "25%       9.942500\n",
       "50%      10.225000\n",
       "75%      10.650000\n",
       "max      12.000000\n",
       "Name: time, dtype: float64"
      ]
     },
     "execution_count": 11,
     "metadata": {},
     "output_type": "execute_result"
    }
   ],
   "source": [
    "data['time'].describe()"
   ]
  },
  {
   "cell_type": "code",
   "execution_count": 12,
   "metadata": {},
   "outputs": [
    {
     "data": {
      "text/plain": [
       "<matplotlib.axes._subplots.AxesSubplot at 0x196df6f6208>"
      ]
     },
     "execution_count": 12,
     "metadata": {},
     "output_type": "execute_result"
    },
    {
     "data": {
      "image/png": "[encoded data removed]",
      "text/plain": [
       "<Figure size 432x288 with 1 Axes>"
      ]
     },
     "metadata": {
      "needs_background": "light"
     },
     "output_type": "display_data"
    }
   ],
   "source": [
    "sns.distplot(data['time'])"
   ]
  },
  {
   "cell_type": "markdown",
   "metadata": {},
   "source": [
    "from the distribution of the data, it seems that we have positive skewness, and possibly outliers in 11.5 - 12.5 range of time"
   ]
  },
  {
   "cell_type": "code",
   "execution_count": 14,
   "metadata": {},
   "outputs": [
    {
     "name": "stdout",
     "output_type": "stream",
     "text": [
      "Kurtosis: 2.5153222632018304\n",
      "skewness: 1.3139215198061585\n"
     ]
    }
   ],
   "source": [
    "print(f\"Kurtosis: {data['time'].kurt()}\")\n",
    "print(f\"skewness: {data['time'].skew()}\")"
   ]
  },
  {
   "cell_type": "markdown",
   "metadata": {},
   "source": [
    "since skewness is not 0, we can conclude that the distribution of our data is not symetric, or not normal. its also skewed to the right, because skewness is positive.\n",
    "kurtosis shows that there is a 'heavy' tail in the graph, or presence of outliers, since its != 0"
   ]
  },
  {
   "cell_type": "code",
   "execution_count": 67,
   "metadata": {},
   "outputs": [
    {
     "data": {
      "image/png": "[encoded data removed]",
      "text/plain": [
       "<Figure size 432x288 with 1 Axes>"
      ]
     },
     "metadata": {
      "needs_background": "light"
     },
     "output_type": "display_data"
    }
   ],
   "source": [
    "plt.scatter(x=data['year'], y=data['time'])\n",
    "plt.ylabel('time')\n",
    "plt.xlabel('year')\n",
    "plt.title('Time of the 100m winners competition over the years')\n",
    "plt.grid()"
   ]
  },
  {
   "cell_type": "markdown",
   "metadata": {},
   "source": [
    "from the few data that we could gather, its clear that there is a negative linear trend between the year and mark of the 100m winners from 1896 to 2016.\n",
    "over the years its apparent that the winners have gotten faster, \n",
    "we can also see the presence of potential a potential outlier at mark of 12s, however we will keep it because it seems that it tends to follow the trend. As we can appreciate below, the correlation of the variables is strong."
   ]
  },
  {
   "cell_type": "code",
   "execution_count": 13,
   "metadata": {},
   "outputs": [
    {
     "data": {
      "text/plain": [
       "-0.9051728915966866"
      ]
     },
     "execution_count": 13,
     "metadata": {},
     "output_type": "execute_result"
    }
   ],
   "source": [
    "data['year'].corr(data['time'])"
   ]
  },
  {
   "cell_type": "code",
   "execution_count": 69,
   "metadata": {
    "scrolled": true
   },
   "outputs": [
    {
     "data": {
      "image/png": "[encoded data removed]",
      "text/plain": [
       "<Figure size 432x288 with 1 Axes>"
      ]
     },
     "metadata": {
      "needs_background": "light"
     },
     "output_type": "display_data"
    }
   ],
   "source": [
    "plt.scatter(x=data['year'], y=data['bmi'])\n",
    "plt.ylabel('bmi')\n",
    "plt.xlabel('year')\n",
    "plt.title('Bmi over the years of 100m winners')\n",
    "plt.grid()"
   ]
  },
  {
   "cell_type": "code",
   "execution_count": 15,
   "metadata": {},
   "outputs": [
    {
     "data": {
      "text/plain": [
       "0.6539790514411299"
      ]
     },
     "execution_count": 15,
     "metadata": {},
     "output_type": "execute_result"
    }
   ],
   "source": [
    "data['year'].corr(data['bmi'])"
   ]
  },
  {
   "cell_type": "code",
   "execution_count": 70,
   "metadata": {
    "scrolled": true
   },
   "outputs": [
    {
     "data": {
      "image/png": "[encoded data removed]",
      "text/plain": [
       "<Figure size 432x288 with 1 Axes>"
      ]
     },
     "metadata": {
      "needs_background": "light"
     },
     "output_type": "display_data"
    }
   ],
   "source": [
    "plt.scatter(x=data['year'], y=data['height'])\n",
    "plt.ylabel('height')\n",
    "plt.xlabel('year')\n",
    "plt.title('Height vs years')\n",
    "plt.grid()"
   ]
  },
  {
   "cell_type": "code",
   "execution_count": 17,
   "metadata": {},
   "outputs": [
    {
     "data": {
      "text/plain": [
       "0.7343323716429995"
      ]
     },
     "execution_count": 17,
     "metadata": {},
     "output_type": "execute_result"
    }
   ],
   "source": [
    "data['year'].corr(data['height'])"
   ]
  },
  {
   "cell_type": "code",
   "execution_count": 71,
   "metadata": {},
   "outputs": [
    {
     "data": {
      "image/png": "[encoded data removed]",
      "text/plain": [
       "<Figure size 432x288 with 1 Axes>"
      ]
     },
     "metadata": {
      "needs_background": "light"
     },
     "output_type": "display_data"
    }
   ],
   "source": [
    "plt.scatter(x=data['year'], y=data['weight'])\n",
    "plt.ylabel('weight')\n",
    "plt.xlabel('year')\n",
    "plt.title('Weight vs Years')\n",
    "plt.grid()"
   ]
  },
  {
   "cell_type": "code",
   "execution_count": 19,
   "metadata": {},
   "outputs": [
    {
     "data": {
      "text/plain": [
       "0.8278312823761599"
      ]
     },
     "execution_count": 19,
     "metadata": {},
     "output_type": "execute_result"
    }
   ],
   "source": [
    "data['year'].corr(data['weight'])"
   ]
  },
  {
   "cell_type": "markdown",
   "metadata": {},
   "source": [
    "ideally, we would want our dataset to be larger so it follows the normal distribution, but we considered it normal anyway for simplicity's sake. in this ideal world, we can conclude that over the years the winners from the 100m men have gotten faster, heavier and taller. \n",
    "maybe taller people are faster because their step is bigger, and their increase in weight could be because they developed more muscle, and thus are able to produce great force without expending too much energy, meaning they can run faster."
   ]
  },
  {
   "cell_type": "markdown",
   "metadata": {},
   "source": [
    "### Linear regression and gradient descent"
   ]
  },
  {
   "cell_type": "markdown",
   "metadata": {},
   "source": [
    "Since there is a strong correlation between mark time and the years, we will use gradient descent and linear regression to fit the best line to the data"
   ]
  },
  {
   "cell_type": "code",
   "execution_count": 39,
   "metadata": {},
   "outputs": [],
   "source": [
    "X = np.array(data['year'])\n",
    "y = np.array(data['time'])\n",
    "m = y.size"
   ]
  },
  {
   "cell_type": "code",
   "execution_count": 21,
   "metadata": {},
   "outputs": [],
   "source": [
    "def plotData(x, y):\n",
    "    fig = plt.figure()\n",
    "    plt.plot(x, y, 'ro', ms=10, mec='k')\n",
    "    plt.ylabel('Mark in seconds')\n",
    "    plt.xlabel('years')\n",
    "    plt.grid()\n"
   ]
  },
  {
   "cell_type": "code",
   "execution_count": 22,
   "metadata": {},
   "outputs": [
    {
     "data": {
      "image/png": "[encoded data removed]",
      "text/plain": [
       "<Figure size 432x288 with 1 Axes>"
      ]
     },
     "metadata": {
      "needs_background": "light"
     },
     "output_type": "display_data"
    }
   ],
   "source": [
    "plotData(X,y)"
   ]
  },
  {
   "cell_type": "code",
   "execution_count": 40,
   "metadata": {
    "scrolled": true
   },
   "outputs": [],
   "source": [
    "X = np.stack([np.ones(m), X], axis=1)"
   ]
  },
  {
   "cell_type": "code",
   "execution_count": 41,
   "metadata": {},
   "outputs": [
    {
     "data": {
      "text/plain": [
       "array([[ 1.        , -1.7055355 ],\n",
       "       [ 1.        , -1.59625634],\n",
       "       [ 1.        , -1.48697718],\n",
       "       [ 1.        , -1.37769801],\n",
       "       [ 1.        , -1.26841885],\n",
       "       [ 1.        , -1.04986053],\n",
       "       [ 1.        , -0.94058136],\n",
       "       [ 1.        , -0.8313022 ],\n",
       "       [ 1.        , -0.72202304],\n",
       "       [ 1.        , -0.61274388],\n",
       "       [ 1.        , -0.28490639],\n",
       "       [ 1.        , -0.17562723],\n",
       "       [ 1.        , -0.06634806],\n",
       "       [ 1.        ,  0.0429311 ],\n",
       "       [ 1.        ,  0.15221026],\n",
       "       [ 1.        ,  0.26148942],\n",
       "       [ 1.        ,  0.37076859],\n",
       "       [ 1.        ,  0.48004775],\n",
       "       [ 1.        ,  0.58932691],\n",
       "       [ 1.        ,  0.69860608],\n",
       "       [ 1.        ,  0.80788524],\n",
       "       [ 1.        ,  0.9171644 ],\n",
       "       [ 1.        ,  1.02644356],\n",
       "       [ 1.        ,  1.13572273],\n",
       "       [ 1.        ,  1.24500189],\n",
       "       [ 1.        ,  1.35428105],\n",
       "       [ 1.        ,  1.46356021],\n",
       "       [ 1.        ,  1.57283938]])"
      ]
     },
     "execution_count": 41,
     "metadata": {},
     "output_type": "execute_result"
    }
   ],
   "source": [
    "X_norm = X.copy()\n",
    "X_norm[:, 1] = (X_norm[:, 1] - X_norm[:, 1].mean()) / X_norm[:, 1].std()\n",
    "X_norm"
   ]
  },
  {
   "cell_type": "code",
   "execution_count": 42,
   "metadata": {},
   "outputs": [],
   "source": [
    "def computeCost(x, y, theta):\n",
    "    m = y.size\n",
    "    J =np.power(np.dot(x, theta) - y, 2) / (2 * m)\n",
    "    J = np.sum(J)\n",
    "    return J"
   ]
  },
  {
   "cell_type": "code",
   "execution_count": 43,
   "metadata": {},
   "outputs": [
    {
     "name": "stdout",
     "output_type": "stream",
     "text": [
      "With theta = [0, 0] \n",
      "Cost computed = 53.34\n"
     ]
    }
   ],
   "source": [
    "J = computeCost(X_norm, y, theta=np.array([0.0, 0.0]))\n",
    "print('With theta = [0, 0] \\nCost computed = %.2f' % J)"
   ]
  },
  {
   "cell_type": "code",
   "execution_count": 44,
   "metadata": {},
   "outputs": [],
   "source": [
    "def gradientDescent(x, y, theta, alpha, iterations):\n",
    "    m = y.shape[0]\n",
    "    J_history = np.zeros(iterations)\n",
    "    theta_history = np.zeros((iterations, 2))\n",
    "    for i in range(iterations):\n",
    "        theta = theta - np.dot(x.T, np.dot(x, theta) - y) * alpha / m\n",
    "        theta_history[i, :] = theta.T\n",
    "        J_history[i] = computeCost(x, y, theta)\n",
    "    return theta, J_history"
   ]
  },
  {
   "cell_type": "code",
   "execution_count": 45,
   "metadata": {},
   "outputs": [
    {
     "name": "stdout",
     "output_type": "stream",
     "text": [
      "Theta found by gradient descent: 10.3157, -0.4633\n"
     ]
    }
   ],
   "source": [
    "theta = np.zeros(2)\n",
    "iterations = 1500\n",
    "alpha = 0.03\n",
    "\n",
    "theta, J_history = gradientDescent(X_norm ,y, theta, alpha, iterations)\n",
    "print('Theta found by gradient descent: {:.4f}, {:.4f}'.format(*theta))"
   ]
  },
  {
   "cell_type": "code",
   "execution_count": 46,
   "metadata": {},
   "outputs": [
    {
     "name": "stdout",
     "output_type": "stream",
     "text": [
      "[5.01870687e+01 4.72224113e+01 4.44329651e+01 ... 2.36599058e-02\n",
      " 2.36599058e-02 2.36599058e-02]\n"
     ]
    }
   ],
   "source": [
    "print(J_history)"
   ]
  },
  {
   "cell_type": "code",
   "execution_count": 65,
   "metadata": {
    "scrolled": true
   },
   "outputs": [
    {
     "data": {
      "image/png": "[encoded data removed]",
      "text/plain": [
       "<Figure size 432x288 with 1 Axes>"
      ]
     },
     "metadata": {
      "needs_background": "light"
     },
     "output_type": "display_data"
    }
   ],
   "source": [
    "plotData(X_norm[:, 1], y)\n",
    "plt.plot(X_norm[:, 1], np.dot(X_norm, theta), '-', lw=3)\n",
    "plt.legend(['Training data', 'Linear regression']);"
   ]
  },
  {
   "cell_type": "markdown",
   "metadata": {},
   "source": [
    "#### final cost or accuracy"
   ]
  },
  {
   "cell_type": "code",
   "execution_count": 60,
   "metadata": {},
   "outputs": [],
   "source": [
    "cost = computeCost(X_norm, y, theta)"
   ]
  },
  {
   "cell_type": "code",
   "execution_count": 61,
   "metadata": {},
   "outputs": [
    {
     "data": {
      "text/plain": [
       "0.02365990584410639"
      ]
     },
     "execution_count": 61,
     "metadata": {},
     "output_type": "execute_result"
    }
   ],
   "source": [
    "cost"
   ]
  },
  {
   "cell_type": "markdown",
   "metadata": {},
   "source": [
    " as appreciated above, the fit to the training data is almost perfect, since the cost asocciated is near zero."
   ]
  }
 ],
 "metadata": {
  "kernelspec": {
   "display_name": "Python 3",
   "language": "python",
   "name": "python3"
  },
  "language_info": {
   "codemirror_mode": {
    "name": "ipython",
    "version": 3
   },
   "file_extension": ".py",
   "mimetype": "text/x-python",
   "name": "python",
   "nbconvert_exporter": "python",
   "pygments_lexer": "ipython3",
   "version": "3.7.6"
  }
 },
 "nbformat": 4,
 "nbformat_minor": 4
}
